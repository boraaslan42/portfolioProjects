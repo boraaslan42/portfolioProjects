{
 "cells": [
  {
   "cell_type": "code",
   "execution_count": 3,
   "metadata": {},
   "outputs": [
    {
     "name": "stdout",
     "output_type": "stream",
     "text": [
      "4\n"
     ]
    }
   ],
   "source": [
    "string=f\"https://www.walmart.com/orchestra/snb/graphql/Deals/7836e259269834397500dcfbdbd36bec9f2ec7dabc270bb7b4dd106ae218bead/deals?variables=%7B%22id%22%3A+%22%22%2C+%22dealsId%22%3A+%22deals%2Fclearance%22%2C+%22page%22%3A+2%2C+%22mosaicPage%22%3A+2%2C+%22prg%22%3A+%22desktop%22%2C+%22facet%22%3A+%22%22%2C+%22catId%22%3A+%225920738%22%2C+%22seoPath%22%3A+%22%2Fshop%2Fdeals%2Fclearance%3FcatId%3D{catIdVar}%22%2C+%22ps%22%3A+40%2C+%22ptss%22%3A+%22%22%2C+%22trsp%22%3A+%22%22%2C+%22min_price%22%3A+%22%22%2C+%22max_price%22%3A+%22%22%2C+%22sort%22%3A+%22best_match%22%2C+%22beShelfId%22%3A+%22%22%2C+%22recall_set%22%3A+%22%22%2C+%22module_search%22%3A+%22%22%2C+%22storeSlotBooked%22%3A+%22%22%2C+%22additionalQueryParams%22%3A+%7B%22isMoreOptionsTileEnabled%22%3A+true%7D%2C+%22searchParams%22%3A+%7B%22id%22%3A+%22%22%2C+%22dealsId%22%3A+%22deals%2Fclearance%22%2C+%22query%22%3A+%22%22%2C+%22page%22%3A+2%2C+%22mosaicPage%22%3A+2%2C+%22prg%22%3A+%22desktop%22%2C+%22facet%22%3A+%22%22%2C+%22catId%22%3A+%22{catIdVar}%22%2C+%22seoPath%22%3A+%22%2Fshop%2Fdeals%2Fclearance%3FcatId%3D{catIdVar}%22%2C+%22ps%22%3A+40%2C+%22ptss%22%3A+%22%22%2C+%22trsp%22%3A+%22%22%2C+%22min_price%22%3A+%22%22%2C+%22max_price%22%3A+%22%22%2C+%22sort%22%3A+%22best_match%22%2C+%22beShelfId%22%3A+%22%22%2C+%22recall_set%22%3A+%22%22%2C+%22module_search%22%3A+%22%22%2C+%22storeSlotBooked%22%3A+%22%22%2C+%22additionalQueryParams%22%3A+%7B%22isMoreOptionsTileEnabled%22%3A+true%7D%2C+%22cat_id%22%3A+%22{catIdVar}%22%2C+%22_be_shelf_id%22%3A+%22%22%2C+%22pageType%22%3A+%22DealsPage%22%7D%2C+%22query%22%3A+null%2C+%22pageType%22%3A+%22DealsPage%22%2C+%22fetchSkyline%22%3A+true%2C+%22enablePortableFacets%22%3A+true%2C+%22enableFacetCount%22%3A+true%2C+%22tenant%22%3A+%22WM_GLASS%22%7D\""
   ]
  }
 ],
 "metadata": {
  "kernelspec": {
   "display_name": "Python 3",
   "language": "python",
   "name": "python3"
  },
  "language_info": {
   "codemirror_mode": {
    "name": "ipython",
    "version": 3
   },
   "file_extension": ".py",
   "mimetype": "text/x-python",
   "name": "python",
   "nbconvert_exporter": "python",
   "pygments_lexer": "ipython3",
   "version": "3.11.4"
  }
 },
 "nbformat": 4,
 "nbformat_minor": 2
}
