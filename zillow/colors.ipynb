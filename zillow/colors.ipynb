{
 "cells": [
  {
   "cell_type": "code",
   "execution_count": 68,
   "metadata": {},
   "outputs": [],
   "source": [
    "import requests\n",
    "from PIL import Image\n",
    "from io import BytesIO\n",
    "\n",
    "def saveColor(colorCode,colorName):\n",
    "    url = f\"https://singlecolorimage.com/get/{colorCode}/400x100\"\n",
    "\n",
    "    headers = {\n",
    "        \"Accept\": \"text/html,application/xhtml+xml,application/xml;q=0.9,image/avif,image/webp,image/apng,*/*;q=0.8,application/signed-exchange;v=b3;q=0.7\",\n",
    "        \"Accept-Language\": \"tr-TR,tr;q=0.9,en-US;q=0.8,en;q=0.7\",\n",
    "        \"Cache-Control\": \"max-age=0\",\n",
    "        \"Connection\": \"keep-alive\",\n",
    "        \"Sec-Fetch-Dest\": \"document\",\n",
    "        \"Sec-Fetch-Mode\": \"navigate\",\n",
    "        \"Sec-Fetch-Site\": \"none\",\n",
    "        \"Sec-Fetch-User\": \"?1\",\n",
    "        \"Upgrade-Insecure-Requests\": \"1\",\n",
    "        \"User-Agent\": \"Mozilla/5.0 (Windows NT 10.0; Win64; x64) AppleWebKit/537.36 (KHTML, like Gecko) Chrome/116.0.0.0 Safari/537.36 OPR/102.0.0.0\",\n",
    "        \"sec-ch-ua\": '\"Chromium\";v=\"116\", \"Not)A;Brand\";v=\"24\", \"Opera GX\";v=\"102\"',\n",
    "        \"sec-ch-ua-mobile\": \"?0\",\n",
    "        \"sec-ch-ua-platform\": '\"Windows\"',\n",
    "    }\n",
    "\n",
    "    response = requests.get(url, headers=headers)\n",
    "\n",
    "\n",
    "    if response.status_code == 200:\n",
    "        image = Image.open(BytesIO(response.content))\n",
    "        image.save(f\"{colorName}.png\")\n",
    "    else:\n",
    "        print(f\"Failed to retrieve the image. Status code: {response.status_code}\")"
   ]
  },
  {
   "cell_type": "code",
   "execution_count": 31,
   "metadata": {},
   "outputs": [],
   "source": [
    "import requests\n",
    "\n",
    "url1 = \"https://www.magasindepeinture.ch/en/ncs-color-chart-online.html\"\n",
    "\n",
    "payload1 = {}\n",
    "headers1 = {\n",
    "  'authority': 'www.magasindepeinture.ch',\n",
    "  'accept': 'text/html,application/xhtml+xml,application/xml;q=0.9,image/avif,image/webp,image/apng,*/*;q=0.8,application/signed-exchange;v=b3;q=0.7',\n",
    "  'accept-language': 'tr-TR,tr;q=0.9,en-US;q=0.8,en;q=0.7',\n",
    "  'cache-control': 'max-age=0',\n",
    "  'cookie': 'ab__device=desktop; ab__ab_ib=N; sid_customer_95163=bb1a9d7d346e70611799302da0284000-1-C; ab__p_dpr=1.125; _ga=GA1.1.38098849.1698760488; _gcl_au=1.1.1719136440.1698760488; ab__device=desktop; _ga_72P5Q0LDZ5=GS1.1.1698760488.1.1.1698761557.60.0.0; _ga_NZPREL7XPV=GS1.1.1698760488.1.1.1698761557.0.0.0; ab__device=desktop; sid_customer_95163=bb1a9d7d346e70611799302da0284000-1-C',\n",
    "  'referer': 'https://www.magasindepeinture.ch/en/online-swatches.html',\n",
    "  'sec-ch-ua': '\"Chromium\";v=\"116\", \"Not)A;Brand\";v=\"24\", \"Opera GX\";v=\"102\"',\n",
    "  'sec-ch-ua-mobile': '?0',\n",
    "  'sec-ch-ua-platform': '\"Windows\"',\n",
    "  'sec-fetch-dest': 'document',\n",
    "  'sec-fetch-mode': 'navigate',\n",
    "  'sec-fetch-site': 'same-origin',\n",
    "  'sec-fetch-user': '?1',\n",
    "  'upgrade-insecure-requests': '1',\n",
    "  'user-agent': 'Mozilla/5.0 (Windows NT 10.0; Win64; x64) AppleWebKit/537.36 (KHTML, like Gecko) Chrome/116.0.0.0 Safari/537.36 OPR/102.0.0.0'\n",
    "}\n",
    "\n",
    "response1 = requests.request(\"GET\", url1, headers=headers1, data=payload1)\n",
    "\n"
   ]
  },
  {
   "cell_type": "code",
   "execution_count": 69,
   "metadata": {},
   "outputs": [],
   "source": [
    "from bs4 import BeautifulSoup\n",
    "\n",
    "soup1 = BeautifulSoup(response1.content, \"html.parser\")\n",
    "a = soup1.find(\"table\").find_all(\"td\")\n",
    "\n",
    "for color in a[:100]:\n",
    "    colorName = color.span.text\n",
    "    colorCode = color.find(\"div\").find(\"div\")[\"style\"].split(\":\")[-1][2:-1]\n",
    "    saveColor(colorCode, colorName)"
   ]
  }
 ],
 "metadata": {
  "kernelspec": {
   "display_name": "Python 3",
   "language": "python",
   "name": "python3"
  },
  "language_info": {
   "codemirror_mode": {
    "name": "ipython",
    "version": 3
   },
   "file_extension": ".py",
   "mimetype": "text/x-python",
   "name": "python",
   "nbconvert_exporter": "python",
   "pygments_lexer": "ipython3",
   "version": "3.11.4"
  }
 },
 "nbformat": 4,
 "nbformat_minor": 2
}
