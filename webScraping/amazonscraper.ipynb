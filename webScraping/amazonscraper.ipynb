{
 "cells": [
  {
   "cell_type": "code",
   "execution_count": 34,
   "metadata": {},
   "outputs": [],
   "source": [
    "import requests\n",
    "import json\n",
    "\n",
    "url = \"https://www.amazon.com/acp/p13n-zg-list-grid-desktop/p13n-zg-list-grid-desktop-dd1ecf2f-4647-4ac7-9d35-6f61cfc6ca45-1687881368211/nextPage?page-type=zeitgeist&stamp=1692631926942\"\n",
    "\n",
    "payload = json.dumps({\n",
    "  \"faceoutkataname\": \"GeneralFaceout\",\n",
    "  \"ids\": [\n",
    "    \"{\\\"id\\\":\\\"B08F4444HM\\\",\\\"metadataMap\\\":{\\\"render.zg.rank\\\":\\\"47\\\",\\\"render.zg.bsms.currentSalesRank\\\":\\\"\\\",\\\"render.zg.bsms.percentageChange\\\":\\\"\\\",\\\"render.zg.bsms.twentyFourHourOldSalesRank\\\":\\\"\\\",\\\"disablePercolateLinkParams\\\":\\\"true\\\"},\\\"linkParameters\\\":{}}\",\n",
    "    \"{\\\"id\\\":\\\"B094WN6SY2\\\",\\\"metadataMap\\\":{\\\"render.zg.rank\\\":\\\"48\\\",\\\"render.zg.bsms.currentSalesRank\\\":\\\"\\\",\\\"render.zg.bsms.percentageChange\\\":\\\"\\\",\\\"render.zg.bsms.twentyFourHourOldSalesRank\\\":\\\"\\\",\\\"disablePercolateLinkParams\\\":\\\"true\\\"},\\\"linkParameters\\\":{}}\",\n",
    "    \"{\\\"id\\\":\\\"B071XNBL33\\\",\\\"metadataMap\\\":{\\\"render.zg.rank\\\":\\\"49\\\",\\\"render.zg.bsms.currentSalesRank\\\":\\\"\\\",\\\"render.zg.bsms.percentageChange\\\":\\\"\\\",\\\"render.zg.bsms.twentyFourHourOldSalesRank\\\":\\\"\\\",\\\"disablePercolateLinkParams\\\":\\\"true\\\"},\\\"linkParameters\\\":{}}\",\n",
    "    \"{\\\"id\\\":\\\"B0BF18JWMT\\\",\\\"metadataMap\\\":{\\\"render.zg.rank\\\":\\\"50\\\",\\\"render.zg.bsms.currentSalesRank\\\":\\\"\\\",\\\"render.zg.bsms.percentageChange\\\":\\\"\\\",\\\"render.zg.bsms.twentyFourHourOldSalesRank\\\":\\\"\\\",\\\"disablePercolateLinkParams\\\":\\\"true\\\"},\\\"linkParameters\\\":{}}\"\n",
    "  ],\n",
    "  \"indexes\": [*range(46,50)],\n",
    "  \"linkparameters\": \"\",\n",
    "  \"offset\": \"46\",\n",
    "  \"reftagprefix\": \"zg_bs_g_videogames\"\n",
    "})\n",
    "headers = {\n",
    "  'authority': 'www.amazon.com',\n",
    "  'accept': 'text/html, application/json',\n",
    "  'accept-language': 'tr-TR,tr;q=0.9,en-US;q=0.8,en;q=0.7',\n",
    "  'content-type': 'application/json',\n",
    "  'cookie': 'ubid-main=132-3527964-4628636; sp-cdn=\"L5Z9:TR\"; session-id=139-7036381-7867655; session-id-apay=139-7036381-7867655; session-id-time=2082787201l; i18n-prefs=USD; lc-main=en_US; aws_lang=tr; skin=noskin; session-token=\"k3FVIHaahhg+2XCOrVH3ItR0Ge5O+aTRTcM59dmEZZl85WJ3TsaKOkMyQZEKgkOTqTQNeJ0FGvAFJkrpkNuhOpXneDpz65dvSq3hS7Ec9x78HDrMMbWmvNq0FsEAHnaiKQ5rbSYmTLGqqmKUGYY1YpEZuT+g1FX6SESXjsEE5+6gR4X/gPojyA9lMqSfID0SQlSmM67DRiGYEirxZaikLEfGpXaKYotE/ky/3/bkajk=\"; csm-hit=s-TMC5JG54CJ6G0B85ZJ1Y|1692631927141; session-token=\"zP8Qs0ua5DcVKJ56ItFcnVmY3EB/8edWUAJXEsa6tFZitWZxXLlAI/68ttoz7b5tAqq3/wIrYwtme1ASCjGq+KrdJfVgtw8r6jXHpd45hSzL277Z3apuaxiJpxObZuEhCb08Ghp5q8/ySWb7zO6ieAXKPzzvgggpTQEgVz8rau42I0lTwqiyOB/LPcZ6Vhr8R4qLHvwzHEEW2AhCELy+HYWDmMvtwU9j0AHhysmar+g=\"',\n",
    "  'device-memory': '8',\n",
    "  'downlink': '10',\n",
    "  'dpr': '1.125',\n",
    "  'ect': '4g',\n",
    "  'origin': 'https://www.amazon.com',\n",
    "  'referer': 'https://www.amazon.com/best-sellers-video-games/zgbs/videogames/ref=zg_bs_pg_1_videogames?_encoding=UTF8&pg=1',\n",
    "  'rtt': '100',\n",
    "  'sec-ch-device-memory': '8',\n",
    "  'sec-ch-dpr': '1.125',\n",
    "  'sec-ch-ua': '\"Not.A/Brand\";v=\"8\", \"Chromium\";v=\"114\", \"Opera GX\";v=\"100\"',\n",
    "  'sec-ch-ua-mobile': '?0',\n",
    "  'sec-ch-ua-platform': '\"Windows\"',\n",
    "  'sec-ch-ua-platform-version': '\"10.0.0\"',\n",
    "  'sec-ch-viewport-width': '1707',\n",
    "  'sec-fetch-dest': 'empty',\n",
    "  'sec-fetch-mode': 'cors',\n",
    "  'sec-fetch-site': 'same-origin',\n",
    "  'user-agent': 'Mozilla/5.0 (Windows NT 10.0; Win64; x64) AppleWebKit/537.36 (KHTML, like Gecko) Chrome/114.0.0.0 Safari/537.36 OPR/100.0.0.0',\n",
    "  'viewport-width': '1707',\n",
    "  'x-amz-acp-params': 'tok=xguuRnxrCJ-jRKVWHSw5HxPpJqqOqQNy74XONpaqrDI;ts=1692631926675;rid=TMC5JG54CJ6G0B85ZJ1Y;d1=655;d2=0',\n",
    "  'x-requested-with': 'XMLHttpRequest'\n",
    "}\n",
    "\n",
    "response = requests.request(\"POST\", url, headers=headers, data=payload)\n",
    "\n",
    "\n"
   ]
  },
  {
   "cell_type": "code",
   "execution_count": 45,
   "metadata": {},
   "outputs": [],
   "source": [
    "soup=BeautifulSoup(response.text, 'html.parser')"
   ]
  },
  {
   "cell_type": "code",
   "execution_count": 53,
   "metadata": {},
   "outputs": [
    {
     "data": {
      "text/plain": [
       "<function Node.text>"
      ]
     },
     "execution_count": 53,
     "metadata": {},
     "output_type": "execute_result"
    }
   ],
   "source": [
    "soup.prettify\n",
    "from selectolax.parser import HTMLParser\n",
    "tree = HTMLParser(response.text)\n",
    "tree.css('a.a-link-normal.a-text-normal')[0].text"
   ]
  },
  {
   "cell_type": "code",
   "execution_count": null,
   "metadata": {},
   "outputs": [],
   "source": []
  },
  {
   "cell_type": "code",
   "execution_count": null,
   "metadata": {},
   "outputs": [],
   "source": []
  },
  {
   "cell_type": "code",
   "execution_count": null,
   "metadata": {},
   "outputs": [],
   "source": []
  },
  {
   "cell_type": "code",
   "execution_count": null,
   "metadata": {},
   "outputs": [],
   "source": []
  },
  {
   "cell_type": "code",
   "execution_count": null,
   "metadata": {},
   "outputs": [],
   "source": []
  },
  {
   "cell_type": "code",
   "execution_count": null,
   "metadata": {},
   "outputs": [],
   "source": []
  },
  {
   "cell_type": "code",
   "execution_count": null,
   "metadata": {},
   "outputs": [],
   "source": []
  },
  {
   "cell_type": "code",
   "execution_count": null,
   "metadata": {},
   "outputs": [],
   "source": []
  },
  {
   "cell_type": "code",
   "execution_count": null,
   "metadata": {},
   "outputs": [],
   "source": []
  },
  {
   "cell_type": "code",
   "execution_count": null,
   "metadata": {},
   "outputs": [],
   "source": []
  },
  {
   "cell_type": "code",
   "execution_count": null,
   "metadata": {},
   "outputs": [],
   "source": []
  },
  {
   "cell_type": "code",
   "execution_count": null,
   "metadata": {},
   "outputs": [],
   "source": []
  },
  {
   "cell_type": "code",
   "execution_count": null,
   "metadata": {},
   "outputs": [],
   "source": []
  },
  {
   "cell_type": "code",
   "execution_count": null,
   "metadata": {},
   "outputs": [],
   "source": []
  },
  {
   "cell_type": "code",
   "execution_count": null,
   "metadata": {},
   "outputs": [],
   "source": []
  },
  {
   "cell_type": "code",
   "execution_count": null,
   "metadata": {},
   "outputs": [],
   "source": []
  },
  {
   "cell_type": "code",
   "execution_count": null,
   "metadata": {},
   "outputs": [],
   "source": []
  },
  {
   "cell_type": "code",
   "execution_count": null,
   "metadata": {},
   "outputs": [],
   "source": []
  },
  {
   "cell_type": "code",
   "execution_count": null,
   "metadata": {},
   "outputs": [],
   "source": []
  },
  {
   "cell_type": "code",
   "execution_count": null,
   "metadata": {},
   "outputs": [],
   "source": []
  },
  {
   "cell_type": "code",
   "execution_count": null,
   "metadata": {},
   "outputs": [],
   "source": []
  },
  {
   "cell_type": "code",
   "execution_count": null,
   "metadata": {},
   "outputs": [],
   "source": []
  },
  {
   "cell_type": "code",
   "execution_count": null,
   "metadata": {},
   "outputs": [],
   "source": []
  },
  {
   "cell_type": "code",
   "execution_count": null,
   "metadata": {},
   "outputs": [],
   "source": []
  },
  {
   "cell_type": "code",
   "execution_count": 28,
   "metadata": {},
   "outputs": [
    {
     "data": {
      "text/plain": [
       "[]"
      ]
     },
     "execution_count": 28,
     "metadata": {},
     "output_type": "execute_result"
    }
   ],
   "source": [
    "print(response.text)"
   ]
  },
  {
   "cell_type": "code",
   "execution_count": null,
   "metadata": {},
   "outputs": [],
   "source": []
  },
  {
   "cell_type": "code",
   "execution_count": null,
   "metadata": {},
   "outputs": [],
   "source": []
  },
  {
   "cell_type": "code",
   "execution_count": null,
   "metadata": {},
   "outputs": [],
   "source": []
  },
  {
   "cell_type": "code",
   "execution_count": 26,
   "metadata": {},
   "outputs": [
    {
     "data": {
      "text/html": [
       "<div>\n",
       "<style scoped>\n",
       "    .dataframe tbody tr th:only-of-type {\n",
       "        vertical-align: middle;\n",
       "    }\n",
       "\n",
       "    .dataframe tbody tr th {\n",
       "        vertical-align: top;\n",
       "    }\n",
       "\n",
       "    .dataframe thead th {\n",
       "        text-align: right;\n",
       "    }\n",
       "</style>\n",
       "<table border=\"1\" class=\"dataframe\">\n",
       "  <thead>\n",
       "    <tr style=\"text-align: right;\">\n",
       "      <th></th>\n",
       "      <th>title</th>\n",
       "      <th>price</th>\n",
       "      <th>rating</th>\n",
       "      <th>reviews</th>\n",
       "      <th>availability</th>\n",
       "    </tr>\n",
       "  </thead>\n",
       "  <tbody>\n",
       "  </tbody>\n",
       "</table>\n",
       "</div>"
      ],
      "text/plain": [
       "Empty DataFrame\n",
       "Columns: [title, price, rating, reviews, availability]\n",
       "Index: []"
      ]
     },
     "execution_count": 26,
     "metadata": {},
     "output_type": "execute_result"
    }
   ],
   "source": [
    "amazon_df.head(10)"
   ]
  },
  {
   "cell_type": "code",
   "execution_count": null,
   "metadata": {},
   "outputs": [],
   "source": []
  },
  {
   "cell_type": "code",
   "execution_count": null,
   "metadata": {},
   "outputs": [],
   "source": []
  },
  {
   "cell_type": "code",
   "execution_count": 23,
   "metadata": {},
   "outputs": [],
   "source": [
    "# Function to extract Product Title\n",
    "def get_title(soup):\n",
    "\n",
    "    try:\n",
    "        # Outer Tag Object\n",
    "        title = soup.find(\"span\", attrs={\"id\":'productTitle'})\n",
    "        \n",
    "        # Inner NavigatableString Object\n",
    "        title_value = title.text\n",
    "\n",
    "        # Title as a string value\n",
    "        title_string = title_value.strip()\n",
    "\n",
    "    except AttributeError:\n",
    "        title_string = \"\"\n",
    "\n",
    "    return title_string\n",
    "\n",
    "# Function to extract Product Price\n",
    "def get_price(soup):\n",
    "\n",
    "    try:\n",
    "        price = soup.find(\"span\", attrs={'id':'priceblock_ourprice'}).string.strip()\n",
    "\n",
    "    except AttributeError:\n",
    "\n",
    "        try:\n",
    "            # If there is some deal price\n",
    "            price = soup.find(\"span\", attrs={'id':'priceblock_dealprice'}).string.strip()\n",
    "\n",
    "        except:\n",
    "            price = \"\"\n",
    "\n",
    "    return price\n",
    "\n",
    "# Function to extract Product Rating\n",
    "def get_rating(soup):\n",
    "\n",
    "    try:\n",
    "        rating = soup.find(\"i\", attrs={'class':'a-icon a-icon-star a-star-4-5'}).string.strip()\n",
    "    \n",
    "    except AttributeError:\n",
    "        try:\n",
    "            rating = soup.find(\"span\", attrs={'class':'a-icon-alt'}).string.strip()\n",
    "        except:\n",
    "            rating = \"\"\t\n",
    "\n",
    "    return rating\n",
    "\n",
    "# Function to extract Number of User Reviews\n",
    "def get_review_count(soup):\n",
    "    try:\n",
    "        review_count = soup.find(\"span\", attrs={'id':'acrCustomerReviewText'}).string.strip()\n",
    "\n",
    "    except AttributeError:\n",
    "        review_count = \"\"\t\n",
    "\n",
    "    return review_count\n",
    "\n",
    "# Function to extract Availability Status\n",
    "def get_availability(soup):\n",
    "    try:\n",
    "        available = soup.find(\"div\", attrs={'id':'availability'})\n",
    "        available = available.find(\"span\").string.strip()\n",
    "\n",
    "    except AttributeError:\n",
    "        available = \"Not Available\"\t\n",
    "\n",
    "    return available\n",
    "\n"
   ]
  },
  {
   "cell_type": "code",
   "execution_count": null,
   "metadata": {},
   "outputs": [],
   "source": []
  },
  {
   "cell_type": "code",
   "execution_count": null,
   "metadata": {},
   "outputs": [],
   "source": []
  },
  {
   "cell_type": "code",
   "execution_count": null,
   "metadata": {},
   "outputs": [],
   "source": []
  },
  {
   "cell_type": "code",
   "execution_count": null,
   "metadata": {},
   "outputs": [],
   "source": []
  },
  {
   "cell_type": "code",
   "execution_count": null,
   "metadata": {},
   "outputs": [],
   "source": []
  },
  {
   "cell_type": "code",
   "execution_count": null,
   "metadata": {},
   "outputs": [],
   "source": []
  },
  {
   "cell_type": "code",
   "execution_count": null,
   "metadata": {},
   "outputs": [],
   "source": []
  },
  {
   "cell_type": "code",
   "execution_count": null,
   "metadata": {},
   "outputs": [],
   "source": []
  },
  {
   "cell_type": "code",
   "execution_count": null,
   "metadata": {},
   "outputs": [],
   "source": []
  },
  {
   "cell_type": "code",
   "execution_count": null,
   "metadata": {},
   "outputs": [],
   "source": []
  },
  {
   "cell_type": "code",
   "execution_count": null,
   "metadata": {},
   "outputs": [],
   "source": []
  },
  {
   "cell_type": "code",
   "execution_count": null,
   "metadata": {},
   "outputs": [],
   "source": []
  },
  {
   "cell_type": "code",
   "execution_count": null,
   "metadata": {},
   "outputs": [],
   "source": []
  },
  {
   "cell_type": "code",
   "execution_count": null,
   "metadata": {},
   "outputs": [],
   "source": []
  },
  {
   "cell_type": "code",
   "execution_count": null,
   "metadata": {},
   "outputs": [],
   "source": []
  },
  {
   "cell_type": "code",
   "execution_count": null,
   "metadata": {},
   "outputs": [],
   "source": []
  }
 ],
 "metadata": {
  "kernelspec": {
   "display_name": "Python 3",
   "language": "python",
   "name": "python3"
  },
  "language_info": {
   "codemirror_mode": {
    "name": "ipython",
    "version": 3
   },
   "file_extension": ".py",
   "mimetype": "text/x-python",
   "name": "python",
   "nbconvert_exporter": "python",
   "pygments_lexer": "ipython3",
   "version": "3.11.4"
  },
  "orig_nbformat": 4
 },
 "nbformat": 4,
 "nbformat_minor": 2
}
