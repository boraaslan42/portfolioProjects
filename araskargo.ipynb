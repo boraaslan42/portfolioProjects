{
 "cells": [
  {
   "cell_type": "code",
   "execution_count": 8,
   "metadata": {},
   "outputs": [
    {
     "name": "stdout",
     "output_type": "stream",
     "text": [
      "{\"Code\":200,\"Message\":\"Success\",\"Responses\":[{\"TransactionDate\":\"9.10.2023 17:11:32\",\"UnitName\":\"\\u00D6ZKANLAR\",\"ShipmentLineTransType\":\"\\u015EUBEDE ARA\\u00C7 Y\\u00DCKLEME\",\"Description\":\"\\u00C7IKI\\u015E \\u015EUBES\\u0130NDE; Kargonuz \\u00E7\\u0131k\\u0131\\u015F \\u015Fubesinden transfer merkezine g\\u00F6nderilmek \\u00FCzere arac\\u0131m\\u0131za y\\u00FCklenmi\\u015Ftir. \"},{\"TransactionDate\":\"9.10.2023 19:07:13\",\"UnitName\":\"EGE TRANSFER\",\"ShipmentLineTransType\":\"AKTARMADA SUBE ARACI INDIRME\",\"Description\":\"YOLDA; Kargonuz \\u00E7\\u0131k\\u0131\\u015F transfer merkezinden var\\u0131\\u015F transfer merkezine g\\u00F6nderiliyor.\"},{\"TransactionDate\":\"9.10.2023 19:10:00\",\"UnitName\":\"EGE TRANSFER\",\"ShipmentLineTransType\":\"AKTARMADA HAT ARACI Y\\u00DCKLEME\",\"Description\":\"YOLDA; Kargonuz \\u00E7\\u0131k\\u0131\\u015F transfer merkezinden var\\u0131\\u015F transfer merkezine g\\u00F6nderiliyor.\"},{\"TransactionDate\":\"10.10.2023 05:22:34\",\"UnitName\":\"ANKARA TRANSFER\",\"ShipmentLineTransType\":\"AKTARMADA HAT ARACI \\u0130ND\\u0130RME\",\"Description\":\"YOLDA; Kargonuz var\\u0131\\u015F transfer merkezine indirilmi\\u015Ftir.\"},{\"TransactionDate\":\"10.10.2023 05:26:00\",\"UnitName\":\"ANKARA TRANSFER\",\"ShipmentLineTransType\":\"AKTARMADA SUBE ARACI YUKLEME\",\"Description\":\"YOLDA; Kargonuz var\\u0131\\u015F transfer merkezinden var\\u0131\\u015F \\u015Fubesine g\\u00F6nderiliyor.\"}],\"ContactInfo\":\"\"}\n"
     ]
    }
   ],
   "source": [
    "import requests\n",
    "import json\n",
    "\n",
    "url = \"https://kurumsalwebservice.araskargo.com.tr/api/getCargoTransactionByTrackingNumber\"\n",
    "\n",
    "payload = json.dumps({\n",
    "  \"TrackingNumber\": \"3091985807548\",\n",
    "  \"LanguageCode\": \"tr\"\n",
    "})\n",
    "headers = {\n",
    "  'authority': 'kurumsalwebservice.araskargo.com.tr',\n",
    "  'accept': 'application/json, text/plain, */*',\n",
    "  'accept-language': 'tr-TR,tr;q=0.9,en-US;q=0.8,en;q=0.7',\n",
    "  'access-control-allow-origin': '*',\n",
    "  'content-type': 'application/json',\n",
    "  'origin': 'https://www.araskargo.com.tr',\n",
    "  'referer': 'https://www.araskargo.com.tr/',\n",
    "  'sec-ch-ua': '\"Chromium\";v=\"116\", \"Not)A;Brand\";v=\"24\", \"Opera GX\";v=\"102\"',\n",
    "  'sec-ch-ua-mobile': '?0',\n",
    "  'sec-ch-ua-platform': '\"Windows\"',\n",
    "  'sec-fetch-dest': 'empty',\n",
    "  'sec-fetch-mode': 'cors',\n",
    "  'sec-fetch-site': 'same-site',\n",
    "  'user-agent': 'Mozilla/5.0 (Windows NT 10.0; Win64; x64) AppleWebKit/537.36 (KHTML, like Gecko) Chrome/116.0.0.0 Safari/537.36 OPR/102.0.0.0',\n",
    "  'x-gateway-apikey': 'c15c231a-af51-4b36-8ed2-885935f680c3'\n",
    "}\n",
    "\n",
    "response = requests.request(\"POST\", url, headers=headers, data=payload)\n",
    "print(response.text)\n"
   ]
  },
  {
   "cell_type": "code",
   "execution_count": 6,
   "metadata": {},
   "outputs": [
    {
     "name": "stdout",
     "output_type": "stream",
     "text": [
      "{'TransactionDate': '9.10.2023 17:11:32', 'UnitName': 'ÖZKANLAR', 'ShipmentLineTransType': 'ŞUBEDE ARAÇ YÜKLEME', 'Description': 'ÇIKIŞ ŞUBESİNDE; Kargonuz çıkış şubesinden transfer merkezine gönderilmek üzere aracımıza yüklenmiştir. '}\n",
      "{'TransactionDate': '9.10.2023 19:07:13', 'UnitName': 'EGE TRANSFER', 'ShipmentLineTransType': 'AKTARMADA SUBE ARACI INDIRME', 'Description': 'YOLDA; Kargonuz çıkış transfer merkezinden varış transfer merkezine gönderiliyor.'}\n",
      "{'TransactionDate': '9.10.2023 19:10:00', 'UnitName': 'EGE TRANSFER', 'ShipmentLineTransType': 'AKTARMADA HAT ARACI YÜKLEME', 'Description': 'YOLDA; Kargonuz çıkış transfer merkezinden varış transfer merkezine gönderiliyor.'}\n",
      "{'TransactionDate': '10.10.2023 05:22:34', 'UnitName': 'ANKARA TRANSFER', 'ShipmentLineTransType': 'AKTARMADA HAT ARACI İNDİRME', 'Description': 'YOLDA; Kargonuz varış transfer merkezine indirilmiştir.'}\n",
      "{'TransactionDate': '10.10.2023 05:26:00', 'UnitName': 'ANKARA TRANSFER', 'ShipmentLineTransType': 'AKTARMADA SUBE ARACI YUKLEME', 'Description': 'YOLDA; Kargonuz varış transfer merkezinden varış şubesine gönderiliyor.'}\n"
     ]
    }
   ],
   "source": [
    "dict1=json.loads(response.text)\n",
    "for i in dict1[\"Responses\"]:\n",
    "    print(i)"
   ]
  }
 ],
 "metadata": {
  "kernelspec": {
   "display_name": "Python 3",
   "language": "python",
   "name": "python3"
  },
  "language_info": {
   "codemirror_mode": {
    "name": "ipython",
    "version": 3
   },
   "file_extension": ".py",
   "mimetype": "text/x-python",
   "name": "python",
   "nbconvert_exporter": "python",
   "pygments_lexer": "ipython3",
   "version": "3.11.4"
  }
 },
 "nbformat": 4,
 "nbformat_minor": 2
}
